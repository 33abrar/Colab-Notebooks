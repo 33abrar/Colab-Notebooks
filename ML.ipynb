{
  "nbformat": 4,
  "nbformat_minor": 0,
  "metadata": {
    "colab": {
      "name": "ML.ipynb",
      "provenance": [],
      "collapsed_sections": [
        "C33xMJnulUCj",
        "Z-uQW_A6hOoi",
        "vPrnQaqFnOJN",
        "GdLIXDRlnVLr",
        "9k-jMPivq0vA",
        "QGyRgGPwZHNv",
        "98pBEIPv2Zub",
        "2WpWOJrLkRR1",
        "YdrgclUXkjFF",
        "dYDAiFPHvseI",
        "Tv6P9Y0Rwbdh",
        "a6vT8UAMicV8",
        "szRsMvmr2OdA",
        "Uzv5JUuW2SIB"
      ],
      "authorship_tag": "ABX9TyNmz86Zcff2ItM3R3ndQUah",
      "include_colab_link": true
    },
    "kernelspec": {
      "name": "python3",
      "display_name": "Python 3"
    },
    "language_info": {
      "name": "python"
    }
  },
  "cells": [
    {
      "cell_type": "markdown",
      "metadata": {
        "id": "view-in-github",
        "colab_type": "text"
      },
      "source": [
        "<a href=\"https://colab.research.google.com/github/33abrar/Colab-Notebooks/blob/main/ML.ipynb\" target=\"_parent\"><img src=\"https://colab.research.google.com/assets/colab-badge.svg\" alt=\"Open In Colab\"/></a>"
      ]
    },
    {
      "cell_type": "markdown",
      "metadata": {
        "id": "C33xMJnulUCj"
      },
      "source": [
        "# Issues with Colab"
      ]
    },
    {
      "cell_type": "markdown",
      "metadata": {
        "id": "jUuOkpRWgVZr"
      },
      "source": [
        "1. Memory Discard Issue"
      ]
    },
    {
      "cell_type": "code",
      "metadata": {
        "id": "AWAFayADXz_U"
      },
      "source": [
        "import cv2\n",
        "import matplotlib.pyplot as plt"
      ],
      "execution_count": null,
      "outputs": []
    },
    {
      "cell_type": "code",
      "metadata": {
        "id": "4PyAFKiPVQPO"
      },
      "source": [
        "img = cv2.imread(\"/content/download.jpg\")\n",
        "plt.imshow(img)\n",
        "plt.show()"
      ],
      "execution_count": null,
      "outputs": []
    },
    {
      "cell_type": "markdown",
      "metadata": {
        "id": "YsX4FQvyg3cg"
      },
      "source": [
        "1. Solution"
      ]
    },
    {
      "cell_type": "code",
      "metadata": {
        "id": "jXdg2D6ggfx7"
      },
      "source": [
        "# solution: Mount your drive\n",
        "from google.colab import drive\n",
        "drive.mount('/content/drive')"
      ],
      "execution_count": null,
      "outputs": []
    },
    {
      "cell_type": "markdown",
      "metadata": {
        "id": "Ck2WkRrLg6Bf"
      },
      "source": [
        "2. Changing Directory"
      ]
    },
    {
      "cell_type": "code",
      "metadata": {
        "id": "a55WgzFNYE97"
      },
      "source": [
        "!pwd"
      ],
      "execution_count": null,
      "outputs": []
    },
    {
      "cell_type": "markdown",
      "metadata": {
        "id": "LI5p96jBhANS"
      },
      "source": [
        "2. Solution"
      ]
    },
    {
      "cell_type": "code",
      "metadata": {
        "id": "ClWAZXgFYsny"
      },
      "source": [
        "# solution\n",
        "% cd /content"
      ],
      "execution_count": null,
      "outputs": []
    },
    {
      "cell_type": "markdown",
      "metadata": {
        "id": "W49sxdBhdDQ_"
      },
      "source": [
        "# Start"
      ]
    },
    {
      "cell_type": "markdown",
      "metadata": {
        "id": "Z-uQW_A6hOoi"
      },
      "source": [
        "# 1. Get the Data"
      ]
    },
    {
      "cell_type": "code",
      "metadata": {
        "colab": {
          "base_uri": "https://localhost:8080/"
        },
        "id": "Bry4LWo3x_vz",
        "outputId": "8b31d0d3-a7eb-4c58-86b1-c38e1486f459"
      },
      "source": [
        "from google.colab import drive\n",
        "drive.mount('/content/drive')"
      ],
      "execution_count": null,
      "outputs": [
        {
          "output_type": "stream",
          "name": "stdout",
          "text": [
            "Mounted at /content/drive\n"
          ]
        }
      ]
    },
    {
      "cell_type": "markdown",
      "metadata": {
        "id": "vPrnQaqFnOJN"
      },
      "source": [
        "## Download Data"
      ]
    },
    {
      "cell_type": "markdown",
      "metadata": {
        "id": "-5fftxhyhddj"
      },
      "source": [
        "Copy from drive (if drive contains the file)"
      ]
    },
    {
      "cell_type": "code",
      "metadata": {
        "id": "sl3qFMq4qepw"
      },
      "source": [
        "#copy from drive\n",
        "!cp /content/drive/MyDrive/Fire/housing.csv /content/housing.csv"
      ],
      "execution_count": null,
      "outputs": []
    },
    {
      "cell_type": "markdown",
      "metadata": {
        "id": "xxIk00KRhaCC"
      },
      "source": [
        "Or Download and Extract"
      ]
    },
    {
      "cell_type": "code",
      "metadata": {
        "id": "TMmeqkIEY0mx"
      },
      "source": [
        "# !wget https://raw.githubusercontent.com/ageron/handson-ml2/master/datasets/housing/housing.tgz"
      ],
      "execution_count": null,
      "outputs": []
    },
    {
      "cell_type": "code",
      "metadata": {
        "id": "4074nreqdxyt"
      },
      "source": [
        "# !tar xvf /content/housing.tgz"
      ],
      "execution_count": null,
      "outputs": []
    },
    {
      "cell_type": "code",
      "metadata": {
        "id": "g6waZxwooew6"
      },
      "source": [
        "#copy to drive\n",
        "#!cp /content/housing.csv /content/drive/MyDrive/Fire"
      ],
      "execution_count": null,
      "outputs": []
    },
    {
      "cell_type": "markdown",
      "metadata": {
        "id": "GdLIXDRlnVLr"
      },
      "source": [
        "## Take a Quick Look at the Data"
      ]
    },
    {
      "cell_type": "code",
      "metadata": {
        "id": "H5_deA6geJf0"
      },
      "source": [
        "import pandas as pd"
      ],
      "execution_count": null,
      "outputs": []
    },
    {
      "cell_type": "code",
      "metadata": {
        "id": "wiJCZK8eeNic"
      },
      "source": [
        "housing = pd.read_csv(\"/content/housing.csv\")"
      ],
      "execution_count": null,
      "outputs": []
    },
    {
      "cell_type": "code",
      "metadata": {
        "colab": {
          "base_uri": "https://localhost:8080/"
        },
        "id": "3qboinJveV5l",
        "outputId": "c6c0d102-1d52-4d9b-cb41-cfc2c62fe908"
      },
      "source": [
        "housing.head()"
      ],
      "execution_count": null,
      "outputs": [
        {
          "output_type": "execute_result",
          "data": {
            "text/html": [
              "<div>\n",
              "<style scoped>\n",
              "    .dataframe tbody tr th:only-of-type {\n",
              "        vertical-align: middle;\n",
              "    }\n",
              "\n",
              "    .dataframe tbody tr th {\n",
              "        vertical-align: top;\n",
              "    }\n",
              "\n",
              "    .dataframe thead th {\n",
              "        text-align: right;\n",
              "    }\n",
              "</style>\n",
              "<table border=\"1\" class=\"dataframe\">\n",
              "  <thead>\n",
              "    <tr style=\"text-align: right;\">\n",
              "      <th></th>\n",
              "      <th>longitude</th>\n",
              "      <th>latitude</th>\n",
              "      <th>housing_median_age</th>\n",
              "      <th>total_rooms</th>\n",
              "      <th>total_bedrooms</th>\n",
              "      <th>population</th>\n",
              "      <th>households</th>\n",
              "      <th>median_income</th>\n",
              "      <th>median_house_value</th>\n",
              "      <th>ocean_proximity</th>\n",
              "    </tr>\n",
              "  </thead>\n",
              "  <tbody>\n",
              "    <tr>\n",
              "      <th>0</th>\n",
              "      <td>-122.23</td>\n",
              "      <td>37.88</td>\n",
              "      <td>41.0</td>\n",
              "      <td>880.0</td>\n",
              "      <td>129.0</td>\n",
              "      <td>322.0</td>\n",
              "      <td>126.0</td>\n",
              "      <td>8.3252</td>\n",
              "      <td>452600.0</td>\n",
              "      <td>NEAR BAY</td>\n",
              "    </tr>\n",
              "    <tr>\n",
              "      <th>1</th>\n",
              "      <td>-122.22</td>\n",
              "      <td>37.86</td>\n",
              "      <td>21.0</td>\n",
              "      <td>7099.0</td>\n",
              "      <td>1106.0</td>\n",
              "      <td>2401.0</td>\n",
              "      <td>1138.0</td>\n",
              "      <td>8.3014</td>\n",
              "      <td>358500.0</td>\n",
              "      <td>NEAR BAY</td>\n",
              "    </tr>\n",
              "    <tr>\n",
              "      <th>2</th>\n",
              "      <td>-122.24</td>\n",
              "      <td>37.85</td>\n",
              "      <td>52.0</td>\n",
              "      <td>1467.0</td>\n",
              "      <td>190.0</td>\n",
              "      <td>496.0</td>\n",
              "      <td>177.0</td>\n",
              "      <td>7.2574</td>\n",
              "      <td>352100.0</td>\n",
              "      <td>NEAR BAY</td>\n",
              "    </tr>\n",
              "    <tr>\n",
              "      <th>3</th>\n",
              "      <td>-122.25</td>\n",
              "      <td>37.85</td>\n",
              "      <td>52.0</td>\n",
              "      <td>1274.0</td>\n",
              "      <td>235.0</td>\n",
              "      <td>558.0</td>\n",
              "      <td>219.0</td>\n",
              "      <td>5.6431</td>\n",
              "      <td>341300.0</td>\n",
              "      <td>NEAR BAY</td>\n",
              "    </tr>\n",
              "    <tr>\n",
              "      <th>4</th>\n",
              "      <td>-122.25</td>\n",
              "      <td>37.85</td>\n",
              "      <td>52.0</td>\n",
              "      <td>1627.0</td>\n",
              "      <td>280.0</td>\n",
              "      <td>565.0</td>\n",
              "      <td>259.0</td>\n",
              "      <td>3.8462</td>\n",
              "      <td>342200.0</td>\n",
              "      <td>NEAR BAY</td>\n",
              "    </tr>\n",
              "  </tbody>\n",
              "</table>\n",
              "</div>"
            ],
            "text/plain": [
              "   longitude  latitude  ...  median_house_value  ocean_proximity\n",
              "0    -122.23     37.88  ...            452600.0         NEAR BAY\n",
              "1    -122.22     37.86  ...            358500.0         NEAR BAY\n",
              "2    -122.24     37.85  ...            352100.0         NEAR BAY\n",
              "3    -122.25     37.85  ...            341300.0         NEAR BAY\n",
              "4    -122.25     37.85  ...            342200.0         NEAR BAY\n",
              "\n",
              "[5 rows x 10 columns]"
            ]
          },
          "metadata": {},
          "execution_count": 8
        }
      ]
    },
    {
      "cell_type": "code",
      "metadata": {
        "colab": {
          "base_uri": "https://localhost:8080/"
        },
        "id": "cGU-pYD8fIV0",
        "outputId": "1e1143ad-7921-4d15-ead4-a8150529f379"
      },
      "source": [
        "housing.info()"
      ],
      "execution_count": null,
      "outputs": [
        {
          "output_type": "stream",
          "name": "stdout",
          "text": [
            "<class 'pandas.core.frame.DataFrame'>\n",
            "RangeIndex: 20640 entries, 0 to 20639\n",
            "Data columns (total 10 columns):\n",
            " #   Column              Non-Null Count  Dtype  \n",
            "---  ------              --------------  -----  \n",
            " 0   longitude           20640 non-null  float64\n",
            " 1   latitude            20640 non-null  float64\n",
            " 2   housing_median_age  20640 non-null  float64\n",
            " 3   total_rooms         20640 non-null  float64\n",
            " 4   total_bedrooms      20433 non-null  float64\n",
            " 5   population          20640 non-null  float64\n",
            " 6   households          20640 non-null  float64\n",
            " 7   median_income       20640 non-null  float64\n",
            " 8   median_house_value  20640 non-null  float64\n",
            " 9   ocean_proximity     20640 non-null  object \n",
            "dtypes: float64(9), object(1)\n",
            "memory usage: 1.6+ MB\n"
          ]
        }
      ]
    },
    {
      "cell_type": "code",
      "metadata": {
        "colab": {
          "base_uri": "https://localhost:8080/"
        },
        "id": "kxANBRX5fMlK",
        "outputId": "82075a8d-5736-470f-c912-bd40624a9460"
      },
      "source": [
        "housing.describe()"
      ],
      "execution_count": null,
      "outputs": [
        {
          "output_type": "execute_result",
          "data": {
            "text/html": [
              "<div>\n",
              "<style scoped>\n",
              "    .dataframe tbody tr th:only-of-type {\n",
              "        vertical-align: middle;\n",
              "    }\n",
              "\n",
              "    .dataframe tbody tr th {\n",
              "        vertical-align: top;\n",
              "    }\n",
              "\n",
              "    .dataframe thead th {\n",
              "        text-align: right;\n",
              "    }\n",
              "</style>\n",
              "<table border=\"1\" class=\"dataframe\">\n",
              "  <thead>\n",
              "    <tr style=\"text-align: right;\">\n",
              "      <th></th>\n",
              "      <th>longitude</th>\n",
              "      <th>latitude</th>\n",
              "      <th>housing_median_age</th>\n",
              "      <th>total_rooms</th>\n",
              "      <th>total_bedrooms</th>\n",
              "      <th>population</th>\n",
              "      <th>households</th>\n",
              "      <th>median_income</th>\n",
              "      <th>median_house_value</th>\n",
              "    </tr>\n",
              "  </thead>\n",
              "  <tbody>\n",
              "    <tr>\n",
              "      <th>count</th>\n",
              "      <td>20640.000000</td>\n",
              "      <td>20640.000000</td>\n",
              "      <td>20640.000000</td>\n",
              "      <td>20640.000000</td>\n",
              "      <td>20433.000000</td>\n",
              "      <td>20640.000000</td>\n",
              "      <td>20640.000000</td>\n",
              "      <td>20640.000000</td>\n",
              "      <td>20640.000000</td>\n",
              "    </tr>\n",
              "    <tr>\n",
              "      <th>mean</th>\n",
              "      <td>-119.569704</td>\n",
              "      <td>35.631861</td>\n",
              "      <td>28.639486</td>\n",
              "      <td>2635.763081</td>\n",
              "      <td>537.870553</td>\n",
              "      <td>1425.476744</td>\n",
              "      <td>499.539680</td>\n",
              "      <td>3.870671</td>\n",
              "      <td>206855.816909</td>\n",
              "    </tr>\n",
              "    <tr>\n",
              "      <th>std</th>\n",
              "      <td>2.003532</td>\n",
              "      <td>2.135952</td>\n",
              "      <td>12.585558</td>\n",
              "      <td>2181.615252</td>\n",
              "      <td>421.385070</td>\n",
              "      <td>1132.462122</td>\n",
              "      <td>382.329753</td>\n",
              "      <td>1.899822</td>\n",
              "      <td>115395.615874</td>\n",
              "    </tr>\n",
              "    <tr>\n",
              "      <th>min</th>\n",
              "      <td>-124.350000</td>\n",
              "      <td>32.540000</td>\n",
              "      <td>1.000000</td>\n",
              "      <td>2.000000</td>\n",
              "      <td>1.000000</td>\n",
              "      <td>3.000000</td>\n",
              "      <td>1.000000</td>\n",
              "      <td>0.499900</td>\n",
              "      <td>14999.000000</td>\n",
              "    </tr>\n",
              "    <tr>\n",
              "      <th>25%</th>\n",
              "      <td>-121.800000</td>\n",
              "      <td>33.930000</td>\n",
              "      <td>18.000000</td>\n",
              "      <td>1447.750000</td>\n",
              "      <td>296.000000</td>\n",
              "      <td>787.000000</td>\n",
              "      <td>280.000000</td>\n",
              "      <td>2.563400</td>\n",
              "      <td>119600.000000</td>\n",
              "    </tr>\n",
              "    <tr>\n",
              "      <th>50%</th>\n",
              "      <td>-118.490000</td>\n",
              "      <td>34.260000</td>\n",
              "      <td>29.000000</td>\n",
              "      <td>2127.000000</td>\n",
              "      <td>435.000000</td>\n",
              "      <td>1166.000000</td>\n",
              "      <td>409.000000</td>\n",
              "      <td>3.534800</td>\n",
              "      <td>179700.000000</td>\n",
              "    </tr>\n",
              "    <tr>\n",
              "      <th>75%</th>\n",
              "      <td>-118.010000</td>\n",
              "      <td>37.710000</td>\n",
              "      <td>37.000000</td>\n",
              "      <td>3148.000000</td>\n",
              "      <td>647.000000</td>\n",
              "      <td>1725.000000</td>\n",
              "      <td>605.000000</td>\n",
              "      <td>4.743250</td>\n",
              "      <td>264725.000000</td>\n",
              "    </tr>\n",
              "    <tr>\n",
              "      <th>max</th>\n",
              "      <td>-114.310000</td>\n",
              "      <td>41.950000</td>\n",
              "      <td>52.000000</td>\n",
              "      <td>39320.000000</td>\n",
              "      <td>6445.000000</td>\n",
              "      <td>35682.000000</td>\n",
              "      <td>6082.000000</td>\n",
              "      <td>15.000100</td>\n",
              "      <td>500001.000000</td>\n",
              "    </tr>\n",
              "  </tbody>\n",
              "</table>\n",
              "</div>"
            ],
            "text/plain": [
              "          longitude      latitude  ...  median_income  median_house_value\n",
              "count  20640.000000  20640.000000  ...   20640.000000        20640.000000\n",
              "mean    -119.569704     35.631861  ...       3.870671       206855.816909\n",
              "std        2.003532      2.135952  ...       1.899822       115395.615874\n",
              "min     -124.350000     32.540000  ...       0.499900        14999.000000\n",
              "25%     -121.800000     33.930000  ...       2.563400       119600.000000\n",
              "50%     -118.490000     34.260000  ...       3.534800       179700.000000\n",
              "75%     -118.010000     37.710000  ...       4.743250       264725.000000\n",
              "max     -114.310000     41.950000  ...      15.000100       500001.000000\n",
              "\n",
              "[8 rows x 9 columns]"
            ]
          },
          "metadata": {},
          "execution_count": 10
        }
      ]
    },
    {
      "cell_type": "code",
      "metadata": {
        "colab": {
          "base_uri": "https://localhost:8080/"
        },
        "id": "LYrA8LfGgAMy",
        "outputId": "d407fb82-7833-4e41-ac5c-87e4c9a17ca4"
      },
      "source": [
        "housing[\"ocean_proximity\"].value_counts()"
      ],
      "execution_count": null,
      "outputs": [
        {
          "output_type": "execute_result",
          "data": {
            "text/plain": [
              "<1H OCEAN     9136\n",
              "INLAND        6551\n",
              "NEAR OCEAN    2658\n",
              "NEAR BAY      2290\n",
              "ISLAND           5\n",
              "Name: ocean_proximity, dtype: int64"
            ]
          },
          "metadata": {},
          "execution_count": 11
        }
      ]
    },
    {
      "cell_type": "code",
      "metadata": {
        "colab": {
          "base_uri": "https://localhost:8080/"
        },
        "id": "f-zHU5_kh1r5",
        "outputId": "c8d28935-8985-410b-d87b-dbb0b25659b3"
      },
      "source": [
        "housing.hist(bins = 50, figsize=(16,8))"
      ],
      "execution_count": null,
      "outputs": [
        {
          "output_type": "execute_result",
          "data": {
            "text/plain": [
              "array([[<matplotlib.axes._subplots.AxesSubplot object at 0x7ff755531390>,\n",
              "        <matplotlib.axes._subplots.AxesSubplot object at 0x7ff7554fe790>,\n",
              "        <matplotlib.axes._subplots.AxesSubplot object at 0x7ff7554b7d90>],\n",
              "       [<matplotlib.axes._subplots.AxesSubplot object at 0x7ff7554cd290>,\n",
              "        <matplotlib.axes._subplots.AxesSubplot object at 0x7ff755432ad0>,\n",
              "        <matplotlib.axes._subplots.AxesSubplot object at 0x7ff7553e9d90>],\n",
              "       [<matplotlib.axes._subplots.AxesSubplot object at 0x7ff7553ac090>,\n",
              "        <matplotlib.axes._subplots.AxesSubplot object at 0x7ff7553609d0>,\n",
              "        <matplotlib.axes._subplots.AxesSubplot object at 0x7ff75536cb10>]],\n",
              "      dtype=object)"
            ]
          },
          "metadata": {},
          "execution_count": 12
        },
        {
          "output_type": "display_data",
          "data": {
            "image/png": "[encoded data removed]",
            "text/plain": [
              "<Figure size 1152x576 with 9 Axes>"
            ]
          },
          "metadata": {
            "needs_background": "light"
          }
        }
      ]
    },
    {
      "cell_type": "code",
      "metadata": {
        "colab": {
          "base_uri": "https://localhost:8080/"
        },
        "id": "uZFOMh35jsow",
        "outputId": "d1da1850-1e85-48ac-8196-d724eb9ddda4"
      },
      "source": [
        "housing.hist(bins = 5, figsize=(16,8))"
      ],
      "execution_count": null,
      "outputs": [
        {
          "output_type": "execute_result",
          "data": {
            "text/plain": [
              "array([[<matplotlib.axes._subplots.AxesSubplot object at 0x7ff755564b50>,\n",
              "        <matplotlib.axes._subplots.AxesSubplot object at 0x7ff754bd5fd0>,\n",
              "        <matplotlib.axes._subplots.AxesSubplot object at 0x7ff754732f50>],\n",
              "       [<matplotlib.axes._subplots.AxesSubplot object at 0x7ff7546c9490>,\n",
              "        <matplotlib.axes._subplots.AxesSubplot object at 0x7ff7546f7990>,\n",
              "        <matplotlib.axes._subplots.AxesSubplot object at 0x7ff7546b7fd0>],\n",
              "       [<matplotlib.axes._subplots.AxesSubplot object at 0x7ff75466e090>,\n",
              "        <matplotlib.axes._subplots.AxesSubplot object at 0x7ff7546238d0>,\n",
              "        <matplotlib.axes._subplots.AxesSubplot object at 0x7ff75462ca10>]],\n",
              "      dtype=object)"
            ]
          },
          "metadata": {},
          "execution_count": 13
        },
        {
          "output_type": "display_data",
          "data": {
            "image/png": "[encoded data removed]",
            "text/plain": [
              "<Figure size 1152x576 with 9 Axes>"
            ]
          },
          "metadata": {
            "needs_background": "light"
          }
        }
      ]
    },
    {
      "cell_type": "markdown",
      "metadata": {
        "id": "9k-jMPivq0vA"
      },
      "source": [
        "## Create a Train Test Set"
      ]
    },
    {
      "cell_type": "code",
      "metadata": {
        "id": "6fgofYxQkqVP"
      },
      "source": [
        "from sklearn.model_selection import train_test_split"
      ],
      "execution_count": null,
      "outputs": []
    },
    {
      "cell_type": "code",
      "metadata": {
        "id": "po_oaBPCq4KH"
      },
      "source": [
        "train, test = train_test_split(housing, test_size = 0.2, random_state = 42)"
      ],
      "execution_count": null,
      "outputs": []
    },
    {
      "cell_type": "code",
      "metadata": {
        "colab": {
          "base_uri": "https://localhost:8080/"
        },
        "id": "OAyLfEAIrFhW",
        "outputId": "27668886-799c-4c39-8086-7ae241049db2"
      },
      "source": [
        "print(\"Train\", len(train), \"Test\", len(test))"
      ],
      "execution_count": null,
      "outputs": [
        {
          "output_type": "stream",
          "name": "stdout",
          "text": [
            "Train 16512 Test 4128\n"
          ]
        }
      ]
    },
    {
      "cell_type": "code",
      "metadata": {
        "id": "8nog0IMyr8Am"
      },
      "source": [
        "from sklearn.model_selection import StratifiedShuffleSplit\n",
        "import numpy as np"
      ],
      "execution_count": null,
      "outputs": []
    },
    {
      "cell_type": "code",
      "metadata": {
        "id": "62FBLQdnuULU"
      },
      "source": [
        "housing[\"median_house_value_cat\"] = pd.cut(housing[\"median_house_value\"], \n",
        "                                           bins = [0, 80000, 140000, 220000, 300000, np.inf],\n",
        "                                           labels = [0, 1, 2, 3, 4])"
      ],
      "execution_count": null,
      "outputs": []
    },
    {
      "cell_type": "code",
      "metadata": {
        "colab": {
          "base_uri": "https://localhost:8080/"
        },
        "id": "KHKuXdVqvuBa",
        "outputId": "e1b76bdc-f8dc-48b2-845c-f90a6a4dbbff"
      },
      "source": [
        "housing[\"median_house_value\"].describe()"
      ],
      "execution_count": null,
      "outputs": [
        {
          "output_type": "execute_result",
          "data": {
            "text/plain": [
              "count     20640.000000\n",
              "mean     206855.816909\n",
              "std      115395.615874\n",
              "min       14999.000000\n",
              "25%      119600.000000\n",
              "50%      179700.000000\n",
              "75%      264725.000000\n",
              "max      500001.000000\n",
              "Name: median_house_value, dtype: float64"
            ]
          },
          "metadata": {},
          "execution_count": 19
        }
      ]
    },
    {
      "cell_type": "code",
      "metadata": {
        "colab": {
          "base_uri": "https://localhost:8080/"
        },
        "id": "awGNXQRTvkT0",
        "outputId": "030f8216-561d-466d-e1bf-78ef64cc2124"
      },
      "source": [
        "housing[[\"median_house_value\", \"median_house_value_cat\"]]"
      ],
      "execution_count": null,
      "outputs": [
        {
          "output_type": "execute_result",
          "data": {
            "text/html": [
              "<div>\n",
              "<style scoped>\n",
              "    .dataframe tbody tr th:only-of-type {\n",
              "        vertical-align: middle;\n",
              "    }\n",
              "\n",
              "    .dataframe tbody tr th {\n",
              "        vertical-align: top;\n",
              "    }\n",
              "\n",
              "    .dataframe thead th {\n",
              "        text-align: right;\n",
              "    }\n",
              "</style>\n",
              "<table border=\"1\" class=\"dataframe\">\n",
              "  <thead>\n",
              "    <tr style=\"text-align: right;\">\n",
              "      <th></th>\n",
              "      <th>median_house_value</th>\n",
              "      <th>median_house_value_cat</th>\n",
              "    </tr>\n",
              "  </thead>\n",
              "  <tbody>\n",
              "    <tr>\n",
              "      <th>0</th>\n",
              "      <td>452600.0</td>\n",
              "      <td>4</td>\n",
              "    </tr>\n",
              "    <tr>\n",
              "      <th>1</th>\n",
              "      <td>358500.0</td>\n",
              "      <td>4</td>\n",
              "    </tr>\n",
              "    <tr>\n",
              "      <th>2</th>\n",
              "      <td>352100.0</td>\n",
              "      <td>4</td>\n",
              "    </tr>\n",
              "    <tr>\n",
              "      <th>3</th>\n",
              "      <td>341300.0</td>\n",
              "      <td>4</td>\n",
              "    </tr>\n",
              "    <tr>\n",
              "      <th>4</th>\n",
              "      <td>342200.0</td>\n",
              "      <td>4</td>\n",
              "    </tr>\n",
              "    <tr>\n",
              "      <th>...</th>\n",
              "      <td>...</td>\n",
              "      <td>...</td>\n",
              "    </tr>\n",
              "    <tr>\n",
              "      <th>20635</th>\n",
              "      <td>78100.0</td>\n",
              "      <td>0</td>\n",
              "    </tr>\n",
              "    <tr>\n",
              "      <th>20636</th>\n",
              "      <td>77100.0</td>\n",
              "      <td>0</td>\n",
              "    </tr>\n",
              "    <tr>\n",
              "      <th>20637</th>\n",
              "      <td>92300.0</td>\n",
              "      <td>1</td>\n",
              "    </tr>\n",
              "    <tr>\n",
              "      <th>20638</th>\n",
              "      <td>84700.0</td>\n",
              "      <td>1</td>\n",
              "    </tr>\n",
              "    <tr>\n",
              "      <th>20639</th>\n",
              "      <td>89400.0</td>\n",
              "      <td>1</td>\n",
              "    </tr>\n",
              "  </tbody>\n",
              "</table>\n",
              "<p>20640 rows × 2 columns</p>\n",
              "</div>"
            ],
            "text/plain": [
              "       median_house_value median_house_value_cat\n",
              "0                452600.0                      4\n",
              "1                358500.0                      4\n",
              "2                352100.0                      4\n",
              "3                341300.0                      4\n",
              "4                342200.0                      4\n",
              "...                   ...                    ...\n",
              "20635             78100.0                      0\n",
              "20636             77100.0                      0\n",
              "20637             92300.0                      1\n",
              "20638             84700.0                      1\n",
              "20639             89400.0                      1\n",
              "\n",
              "[20640 rows x 2 columns]"
            ]
          },
          "metadata": {},
          "execution_count": 20
        }
      ]
    },
    {
      "cell_type": "code",
      "metadata": {
        "colab": {
          "base_uri": "https://localhost:8080/"
        },
        "id": "IOwOZ9dzwTVz",
        "outputId": "2f4f1146-c5a7-4d04-de8c-7182399214ac"
      },
      "source": [
        "housing[\"median_house_value_cat\"].hist()"
      ],
      "execution_count": null,
      "outputs": [
        {
          "output_type": "execute_result",
          "data": {
            "text/plain": [
              "<matplotlib.axes._subplots.AxesSubplot at 0x7ff7447bb150>"
            ]
          },
          "metadata": {},
          "execution_count": 21
        },
        {
          "output_type": "display_data",
          "data": {
            "image/png": "[encoded data removed]",
            "text/plain": [
              "<Figure size 432x288 with 1 Axes>"
            ]
          },
          "metadata": {
            "needs_background": "light"
          }
        }
      ]
    },
    {
      "cell_type": "code",
      "metadata": {
        "id": "3qMDDu-gynYP"
      },
      "source": [
        "from sklearn.model_selection import StratifiedShuffleSplit"
      ],
      "execution_count": null,
      "outputs": []
    },
    {
      "cell_type": "code",
      "metadata": {
        "id": "YZXnetZ3VnT5"
      },
      "source": [
        "split = StratifiedShuffleSplit(n_splits = 1, test_size = 0.2, random_state = 42)"
      ],
      "execution_count": null,
      "outputs": []
    },
    {
      "cell_type": "code",
      "metadata": {
        "id": "odhvA13QV9bJ"
      },
      "source": [
        "for train_index, test_index in split.split(housing, housing[\"median_house_value_cat\"]):\n",
        "    strat_train = housing.loc[train_index]\n",
        "    strat_test = housing.loc[test_index]"
      ],
      "execution_count": null,
      "outputs": []
    },
    {
      "cell_type": "code",
      "metadata": {
        "colab": {
          "base_uri": "https://localhost:8080/"
        },
        "id": "vgO7syfTXIWQ",
        "outputId": "8f0940b7-26b8-41cb-d45f-c1e4a8a7c05d"
      },
      "source": [
        "strat_train[\"median_house_value_cat\"].hist()"
      ],
      "execution_count": null,
      "outputs": [
        {
          "output_type": "execute_result",
          "data": {
            "text/plain": [
              "<matplotlib.axes._subplots.AxesSubplot at 0x7ff744767850>"
            ]
          },
          "metadata": {},
          "execution_count": 25
        },
        {
          "output_type": "display_data",
          "data": {
            "image/png": "[encoded data removed]",
            "text/plain": [
              "<Figure size 432x288 with 1 Axes>"
            ]
          },
          "metadata": {
            "needs_background": "light"
          }
        }
      ]
    },
    {
      "cell_type": "code",
      "metadata": {
        "colab": {
          "base_uri": "https://localhost:8080/"
        },
        "id": "iAl5uIDDYQZ_",
        "outputId": "3e968760-b83a-4d99-98bd-a00493e9e70a"
      },
      "source": [
        "strat_test[\"median_house_value_cat\"].hist()"
      ],
      "execution_count": null,
      "outputs": [
        {
          "output_type": "execute_result",
          "data": {
            "text/plain": [
              "<matplotlib.axes._subplots.AxesSubplot at 0x7ff7446ab810>"
            ]
          },
          "metadata": {},
          "execution_count": 26
        },
        {
          "output_type": "display_data",
          "data": {
            "image/png": "[encoded data removed]",
            "text/plain": [
              "<Figure size 432x288 with 1 Axes>"
            ]
          },
          "metadata": {
            "needs_background": "light"
          }
        }
      ]
    },
    {
      "cell_type": "code",
      "metadata": {
        "id": "ovhvbKBObbQl"
      },
      "source": [
        "strat_train.drop(\"median_house_value_cat\", axis = 1, inplace=True)"
      ],
      "execution_count": null,
      "outputs": []
    },
    {
      "cell_type": "code",
      "metadata": {
        "id": "q6Bi3vF8cLH3"
      },
      "source": [
        "strat_test.drop(\"median_house_value_cat\", axis = 1, inplace=True)"
      ],
      "execution_count": null,
      "outputs": []
    },
    {
      "cell_type": "markdown",
      "metadata": {
        "id": "QGyRgGPwZHNv"
      },
      "source": [
        "# 2. Prepare the data for Machine Learning algorithms"
      ]
    },
    {
      "cell_type": "markdown",
      "metadata": {
        "id": "RE9x8aGBiwSC"
      },
      "source": [
        "## Separate Attributes and Labels"
      ]
    },
    {
      "cell_type": "code",
      "metadata": {
        "id": "JvKlHPM0ZGTw"
      },
      "source": [
        "strat_train_attr = strat_train.drop(\"median_house_value\", axis = 1, inplace=False)\n",
        "strat_train_labels = strat_train[\"median_house_value\"].copy()"
      ],
      "execution_count": null,
      "outputs": []
    },
    {
      "cell_type": "code",
      "metadata": {
        "colab": {
          "base_uri": "https://localhost:8080/"
        },
        "id": "9UEJ0Fg1c2Lc",
        "outputId": "74e9ba86-e5c4-4945-ba93-15b3990bb4da"
      },
      "source": [
        "strat_train_attr.info()"
      ],
      "execution_count": null,
      "outputs": [
        {
          "output_type": "stream",
          "name": "stdout",
          "text": [
            "<class 'pandas.core.frame.DataFrame'>\n",
            "Int64Index: 16512 entries, 12930 to 12840\n",
            "Data columns (total 9 columns):\n",
            " #   Column              Non-Null Count  Dtype  \n",
            "---  ------              --------------  -----  \n",
            " 0   longitude           16512 non-null  float64\n",
            " 1   latitude            16512 non-null  float64\n",
            " 2   housing_median_age  16512 non-null  float64\n",
            " 3   total_rooms         16512 non-null  float64\n",
            " 4   total_bedrooms      16350 non-null  float64\n",
            " 5   population          16512 non-null  float64\n",
            " 6   households          16512 non-null  float64\n",
            " 7   median_income       16512 non-null  float64\n",
            " 8   ocean_proximity     16512 non-null  object \n",
            "dtypes: float64(8), object(1)\n",
            "memory usage: 1.3+ MB\n"
          ]
        }
      ]
    },
    {
      "cell_type": "markdown",
      "metadata": {
        "id": "ERO2H5LEizrq"
      },
      "source": [
        "## Data Cleaning"
      ]
    },
    {
      "cell_type": "code",
      "metadata": {
        "id": "p2HgaJ2MdJfU"
      },
      "source": [
        "median = strat_train_attr[\"total_bedrooms\"].median()\n",
        "strat_train_attr[\"total_bedrooms\"].fillna(median, inplace = True)"
      ],
      "execution_count": null,
      "outputs": []
    },
    {
      "cell_type": "markdown",
      "metadata": {
        "id": "zZGn4458jF8a"
      },
      "source": [
        "## Cat vs Num"
      ]
    },
    {
      "cell_type": "markdown",
      "metadata": {
        "id": "nNoi9b09hKpr"
      },
      "source": [
        "## Handling Text and Categorical Attributes"
      ]
    },
    {
      "cell_type": "code",
      "metadata": {
        "colab": {
          "base_uri": "https://localhost:8080/"
        },
        "id": "cfgH9IbUh4Ax",
        "outputId": "befecc17-1211-4b98-a831-4f982577b61f"
      },
      "source": [
        "strat_train_attr[\"ocean_proximity\"].value_counts()"
      ],
      "execution_count": null,
      "outputs": [
        {
          "output_type": "execute_result",
          "data": {
            "text/plain": [
              "<1H OCEAN     7280\n",
              "INLAND        5252\n",
              "NEAR OCEAN    2137\n",
              "NEAR BAY      1839\n",
              "ISLAND           4\n",
              "Name: ocean_proximity, dtype: int64"
            ]
          },
          "metadata": {},
          "execution_count": 32
        }
      ]
    },
    {
      "cell_type": "code",
      "metadata": {
        "id": "cH_qBIC7jClQ"
      },
      "source": [
        "strat_train_cat = strat_train_attr[[\"ocean_proximity\"]].copy()"
      ],
      "execution_count": null,
      "outputs": []
    },
    {
      "cell_type": "code",
      "metadata": {
        "id": "zWnzYrs0jNoA"
      },
      "source": [
        "#from sklearn.preprocessing import OrdinalEncoder\n",
        "#OE = OrdinalEncoder()\n",
        "#strat_train_cat = OE.fit_transform(strat_train_cat)"
      ],
      "execution_count": null,
      "outputs": []
    },
    {
      "cell_type": "code",
      "metadata": {
        "colab": {
          "base_uri": "https://localhost:8080/"
        },
        "id": "CvNm9z6skFPw",
        "outputId": "3823369c-a53d-406b-acbd-27f0ae5001c7"
      },
      "source": [
        "strat_train_cat"
      ],
      "execution_count": null,
      "outputs": [
        {
          "output_type": "execute_result",
          "data": {
            "text/html": [
              "<div>\n",
              "<style scoped>\n",
              "    .dataframe tbody tr th:only-of-type {\n",
              "        vertical-align: middle;\n",
              "    }\n",
              "\n",
              "    .dataframe tbody tr th {\n",
              "        vertical-align: top;\n",
              "    }\n",
              "\n",
              "    .dataframe thead th {\n",
              "        text-align: right;\n",
              "    }\n",
              "</style>\n",
              "<table border=\"1\" class=\"dataframe\">\n",
              "  <thead>\n",
              "    <tr style=\"text-align: right;\">\n",
              "      <th></th>\n",
              "      <th>ocean_proximity</th>\n",
              "    </tr>\n",
              "  </thead>\n",
              "  <tbody>\n",
              "    <tr>\n",
              "      <th>12930</th>\n",
              "      <td>INLAND</td>\n",
              "    </tr>\n",
              "    <tr>\n",
              "      <th>14088</th>\n",
              "      <td>NEAR OCEAN</td>\n",
              "    </tr>\n",
              "    <tr>\n",
              "      <th>5863</th>\n",
              "      <td>&lt;1H OCEAN</td>\n",
              "    </tr>\n",
              "    <tr>\n",
              "      <th>8324</th>\n",
              "      <td>&lt;1H OCEAN</td>\n",
              "    </tr>\n",
              "    <tr>\n",
              "      <th>14893</th>\n",
              "      <td>NEAR OCEAN</td>\n",
              "    </tr>\n",
              "    <tr>\n",
              "      <th>...</th>\n",
              "      <td>...</td>\n",
              "    </tr>\n",
              "    <tr>\n",
              "      <th>16708</th>\n",
              "      <td>&lt;1H OCEAN</td>\n",
              "    </tr>\n",
              "    <tr>\n",
              "      <th>19085</th>\n",
              "      <td>&lt;1H OCEAN</td>\n",
              "    </tr>\n",
              "    <tr>\n",
              "      <th>6609</th>\n",
              "      <td>&lt;1H OCEAN</td>\n",
              "    </tr>\n",
              "    <tr>\n",
              "      <th>3082</th>\n",
              "      <td>INLAND</td>\n",
              "    </tr>\n",
              "    <tr>\n",
              "      <th>12840</th>\n",
              "      <td>INLAND</td>\n",
              "    </tr>\n",
              "  </tbody>\n",
              "</table>\n",
              "<p>16512 rows × 1 columns</p>\n",
              "</div>"
            ],
            "text/plain": [
              "      ocean_proximity\n",
              "12930          INLAND\n",
              "14088      NEAR OCEAN\n",
              "5863        <1H OCEAN\n",
              "8324        <1H OCEAN\n",
              "14893      NEAR OCEAN\n",
              "...               ...\n",
              "16708       <1H OCEAN\n",
              "19085       <1H OCEAN\n",
              "6609        <1H OCEAN\n",
              "3082           INLAND\n",
              "12840          INLAND\n",
              "\n",
              "[16512 rows x 1 columns]"
            ]
          },
          "metadata": {},
          "execution_count": 35
        }
      ]
    },
    {
      "cell_type": "code",
      "metadata": {
        "id": "n2_CLnrTmslm"
      },
      "source": [
        "from sklearn.preprocessing import OneHotEncoder\n",
        "OHE = OneHotEncoder()\n",
        "strat_train_cat = OHE.fit_transform(strat_train_cat)"
      ],
      "execution_count": null,
      "outputs": []
    },
    {
      "cell_type": "code",
      "metadata": {
        "colab": {
          "base_uri": "https://localhost:8080/"
        },
        "id": "J5Kh7x8Nmz_2",
        "outputId": "2b137390-7a43-4f6e-ce65-9a1faa8cf60c"
      },
      "source": [
        "strat_train_cat"
      ],
      "execution_count": null,
      "outputs": [
        {
          "output_type": "execute_result",
          "data": {
            "text/plain": [
              "<16512x5 sparse matrix of type '<class 'numpy.float64'>'\n",
              "\twith 16512 stored elements in Compressed Sparse Row format>"
            ]
          },
          "metadata": {},
          "execution_count": 37
        }
      ]
    },
    {
      "cell_type": "code",
      "metadata": {
        "colab": {
          "base_uri": "https://localhost:8080/"
        },
        "id": "uqMCOcmsm2Rt",
        "outputId": "04eed36b-8f9e-4e71-d938-e6a8528868f3"
      },
      "source": [
        "strat_train_cat.toarray()"
      ],
      "execution_count": null,
      "outputs": [
        {
          "output_type": "execute_result",
          "data": {
            "text/plain": [
              "array([[0., 1., 0., 0., 0.],\n",
              "       [0., 0., 0., 0., 1.],\n",
              "       [1., 0., 0., 0., 0.],\n",
              "       ...,\n",
              "       [1., 0., 0., 0., 0.],\n",
              "       [0., 1., 0., 0., 0.],\n",
              "       [0., 1., 0., 0., 0.]])"
            ]
          },
          "metadata": {},
          "execution_count": 38
        }
      ]
    },
    {
      "cell_type": "markdown",
      "metadata": {
        "id": "4U47SK8MjB_q"
      },
      "source": [
        "## Feature Scaling"
      ]
    },
    {
      "cell_type": "code",
      "metadata": {
        "id": "yr94rSkGuozw"
      },
      "source": [
        "strat_train_num = strat_train_attr.drop(\"ocean_proximity\", axis = 1, inplace=False)"
      ],
      "execution_count": null,
      "outputs": []
    },
    {
      "cell_type": "code",
      "metadata": {
        "colab": {
          "base_uri": "https://localhost:8080/"
        },
        "id": "9fkGzPHsxsf_",
        "outputId": "6a1e2553-00ca-4dde-8f41-a8558225624e"
      },
      "source": [
        "strat_train_num.describe()"
      ],
      "execution_count": null,
      "outputs": [
        {
          "output_type": "execute_result",
          "data": {
            "text/html": [
              "<div>\n",
              "<style scoped>\n",
              "    .dataframe tbody tr th:only-of-type {\n",
              "        vertical-align: middle;\n",
              "    }\n",
              "\n",
              "    .dataframe tbody tr th {\n",
              "        vertical-align: top;\n",
              "    }\n",
              "\n",
              "    .dataframe thead th {\n",
              "        text-align: right;\n",
              "    }\n",
              "</style>\n",
              "<table border=\"1\" class=\"dataframe\">\n",
              "  <thead>\n",
              "    <tr style=\"text-align: right;\">\n",
              "      <th></th>\n",
              "      <th>longitude</th>\n",
              "      <th>latitude</th>\n",
              "      <th>housing_median_age</th>\n",
              "      <th>total_rooms</th>\n",
              "      <th>total_bedrooms</th>\n",
              "      <th>population</th>\n",
              "      <th>households</th>\n",
              "      <th>median_income</th>\n",
              "    </tr>\n",
              "  </thead>\n",
              "  <tbody>\n",
              "    <tr>\n",
              "      <th>count</th>\n",
              "      <td>16512.000000</td>\n",
              "      <td>16512.000000</td>\n",
              "      <td>16512.000000</td>\n",
              "      <td>16512.000000</td>\n",
              "      <td>16512.00000</td>\n",
              "      <td>16512.000000</td>\n",
              "      <td>16512.000000</td>\n",
              "      <td>16512.000000</td>\n",
              "    </tr>\n",
              "    <tr>\n",
              "      <th>mean</th>\n",
              "      <td>-119.575224</td>\n",
              "      <td>35.639336</td>\n",
              "      <td>28.628331</td>\n",
              "      <td>2642.051054</td>\n",
              "      <td>538.17672</td>\n",
              "      <td>1430.371911</td>\n",
              "      <td>500.506904</td>\n",
              "      <td>3.859981</td>\n",
              "    </tr>\n",
              "    <tr>\n",
              "      <th>std</th>\n",
              "      <td>2.007022</td>\n",
              "      <td>2.139287</td>\n",
              "      <td>12.607356</td>\n",
              "      <td>2173.788155</td>\n",
              "      <td>416.13744</td>\n",
              "      <td>1138.055644</td>\n",
              "      <td>379.382639</td>\n",
              "      <td>1.885853</td>\n",
              "    </tr>\n",
              "    <tr>\n",
              "      <th>min</th>\n",
              "      <td>-124.350000</td>\n",
              "      <td>32.550000</td>\n",
              "      <td>1.000000</td>\n",
              "      <td>2.000000</td>\n",
              "      <td>2.00000</td>\n",
              "      <td>5.000000</td>\n",
              "      <td>2.000000</td>\n",
              "      <td>0.499900</td>\n",
              "    </tr>\n",
              "    <tr>\n",
              "      <th>25%</th>\n",
              "      <td>-121.800000</td>\n",
              "      <td>33.940000</td>\n",
              "      <td>18.000000</td>\n",
              "      <td>1453.000000</td>\n",
              "      <td>298.00000</td>\n",
              "      <td>788.000000</td>\n",
              "      <td>280.000000</td>\n",
              "      <td>2.556350</td>\n",
              "    </tr>\n",
              "    <tr>\n",
              "      <th>50%</th>\n",
              "      <td>-118.510000</td>\n",
              "      <td>34.260000</td>\n",
              "      <td>29.000000</td>\n",
              "      <td>2133.000000</td>\n",
              "      <td>437.00000</td>\n",
              "      <td>1172.000000</td>\n",
              "      <td>411.000000</td>\n",
              "      <td>3.530750</td>\n",
              "    </tr>\n",
              "    <tr>\n",
              "      <th>75%</th>\n",
              "      <td>-118.010000</td>\n",
              "      <td>37.720000</td>\n",
              "      <td>37.000000</td>\n",
              "      <td>3165.250000</td>\n",
              "      <td>646.00000</td>\n",
              "      <td>1736.250000</td>\n",
              "      <td>606.000000</td>\n",
              "      <td>4.730050</td>\n",
              "    </tr>\n",
              "    <tr>\n",
              "      <th>max</th>\n",
              "      <td>-114.310000</td>\n",
              "      <td>41.950000</td>\n",
              "      <td>52.000000</td>\n",
              "      <td>37937.000000</td>\n",
              "      <td>6445.00000</td>\n",
              "      <td>35682.000000</td>\n",
              "      <td>6082.000000</td>\n",
              "      <td>15.000100</td>\n",
              "    </tr>\n",
              "  </tbody>\n",
              "</table>\n",
              "</div>"
            ],
            "text/plain": [
              "          longitude      latitude  ...    households  median_income\n",
              "count  16512.000000  16512.000000  ...  16512.000000   16512.000000\n",
              "mean    -119.575224     35.639336  ...    500.506904       3.859981\n",
              "std        2.007022      2.139287  ...    379.382639       1.885853\n",
              "min     -124.350000     32.550000  ...      2.000000       0.499900\n",
              "25%     -121.800000     33.940000  ...    280.000000       2.556350\n",
              "50%     -118.510000     34.260000  ...    411.000000       3.530750\n",
              "75%     -118.010000     37.720000  ...    606.000000       4.730050\n",
              "max     -114.310000     41.950000  ...   6082.000000      15.000100\n",
              "\n",
              "[8 rows x 8 columns]"
            ]
          },
          "metadata": {},
          "execution_count": 40
        }
      ]
    },
    {
      "cell_type": "code",
      "metadata": {
        "id": "ws9bJdFrx3vG"
      },
      "source": [
        "from sklearn.preprocessing import StandardScaler\n",
        "SS = StandardScaler()\n",
        "strat_train_num = SS.fit_transform(strat_train_num)"
      ],
      "execution_count": null,
      "outputs": []
    },
    {
      "cell_type": "code",
      "metadata": {
        "colab": {
          "base_uri": "https://localhost:8080/"
        },
        "id": "eFMmb76J19-s",
        "outputId": "45a39915-4011-4514-c1ad-93a4f414dd7f"
      },
      "source": [
        "strat_train_cat.shape"
      ],
      "execution_count": null,
      "outputs": [
        {
          "output_type": "execute_result",
          "data": {
            "text/plain": [
              "(16512, 5)"
            ]
          },
          "metadata": {},
          "execution_count": 42
        }
      ]
    },
    {
      "cell_type": "code",
      "metadata": {
        "id": "jrAn1-__ylxf"
      },
      "source": [
        "strat_train_all = np.concatenate((strat_train_num, strat_train_cat.toarray()), axis = 1)"
      ],
      "execution_count": null,
      "outputs": []
    },
    {
      "cell_type": "code",
      "metadata": {
        "colab": {
          "base_uri": "https://localhost:8080/"
        },
        "id": "dUeZ5h0S16HF",
        "outputId": "c833a756-c376-4ea9-9849-cb14b7ba0918"
      },
      "source": [
        "strat_train_all.shape"
      ],
      "execution_count": null,
      "outputs": [
        {
          "output_type": "execute_result",
          "data": {
            "text/plain": [
              "(16512, 13)"
            ]
          },
          "metadata": {},
          "execution_count": 44
        }
      ]
    },
    {
      "cell_type": "markdown",
      "metadata": {
        "id": "98pBEIPv2Zub"
      },
      "source": [
        "# 3. Select a Model and Train it"
      ]
    },
    {
      "cell_type": "markdown",
      "metadata": {
        "id": "2WpWOJrLkRR1"
      },
      "source": [
        "## M1. [Linear Model](https://scikit-learn.org/stable/modules/generated/sklearn.linear_model.LinearRegression.html#)"
      ]
    },
    {
      "cell_type": "code",
      "metadata": {
        "id": "IyjtsPzY2WyE"
      },
      "source": [
        "from sklearn.linear_model import LinearRegression"
      ],
      "execution_count": null,
      "outputs": []
    },
    {
      "cell_type": "code",
      "metadata": {
        "colab": {
          "base_uri": "https://localhost:8080/"
        },
        "id": "hus8lPgq2tY8",
        "outputId": "8b7eb4ec-1a19-40df-80ab-ed1dea4af2bc"
      },
      "source": [
        "lr = LinearRegression()\n",
        "lr.fit(strat_train_all, strat_train_labels)"
      ],
      "execution_count": null,
      "outputs": [
        {
          "output_type": "execute_result",
          "data": {
            "text/plain": [
              "LinearRegression(copy_X=True, fit_intercept=True, n_jobs=None, normalize=False)"
            ]
          },
          "metadata": {},
          "execution_count": 46
        }
      ]
    },
    {
      "cell_type": "code",
      "metadata": {
        "colab": {
          "base_uri": "https://localhost:8080/"
        },
        "id": "c41KxHWh3UPL",
        "outputId": "431f89e7-3b2f-4ee3-f8f3-6f9431cbbf99"
      },
      "source": [
        "strat_train_labels"
      ],
      "execution_count": null,
      "outputs": [
        {
          "output_type": "execute_result",
          "data": {
            "text/plain": [
              "12930    196000.0\n",
              "14088    223000.0\n",
              "5863     231200.0\n",
              "8324      94000.0\n",
              "14893    155900.0\n",
              "           ...   \n",
              "16708    346100.0\n",
              "19085    306600.0\n",
              "6609     163100.0\n",
              "3082      67500.0\n",
              "12840     81100.0\n",
              "Name: median_house_value, Length: 16512, dtype: float64"
            ]
          },
          "metadata": {},
          "execution_count": 47
        }
      ]
    },
    {
      "cell_type": "code",
      "metadata": {
        "id": "0UYXk05l4MYi"
      },
      "source": [
        "index = 8324      "
      ],
      "execution_count": null,
      "outputs": []
    },
    {
      "cell_type": "code",
      "metadata": {
        "colab": {
          "base_uri": "https://localhost:8080/"
        },
        "id": "KvFBtj7vjt5L",
        "outputId": "14979066-e869-460c-92e2-db922072944e"
      },
      "source": [
        "strat_train_all.shape"
      ],
      "execution_count": null,
      "outputs": [
        {
          "output_type": "execute_result",
          "data": {
            "text/plain": [
              "(16512, 13)"
            ]
          },
          "metadata": {},
          "execution_count": 49
        }
      ]
    },
    {
      "cell_type": "code",
      "metadata": {
        "id": "Xd9faU6v2vk8"
      },
      "source": [
        "pre = lr.predict(strat_train_all)"
      ],
      "execution_count": null,
      "outputs": []
    },
    {
      "cell_type": "code",
      "metadata": {
        "id": "9EUZrl954H6b"
      },
      "source": [
        "real = strat_train_labels.iloc[index]"
      ],
      "execution_count": null,
      "outputs": []
    },
    {
      "cell_type": "code",
      "metadata": {
        "colab": {
          "base_uri": "https://localhost:8080/"
        },
        "id": "LJ1KYhay3Xez",
        "outputId": "55fb9f4c-846f-4a3e-df45-542992cc79b4"
      },
      "source": [
        "print(\"Prediction: \", pre[index], \"real: \", real)"
      ],
      "execution_count": null,
      "outputs": [
        {
          "output_type": "stream",
          "name": "stdout",
          "text": [
            "Prediction:  98587.06422405227 real:  85400.0\n"
          ]
        }
      ]
    },
    {
      "cell_type": "code",
      "metadata": {
        "colab": {
          "base_uri": "https://localhost:8080/"
        },
        "id": "acPrpFzskNxa",
        "outputId": "b3fd25d5-6820-4761-fec7-4487b466c828"
      },
      "source": [
        "for i in range(10):\n",
        "  real = strat_train_labels.iloc[i]\n",
        "  print(\"Prediction: \", pre[i], \" real: \", real, \" Difference: \", np.abs(pre[i] - real))"
      ],
      "execution_count": null,
      "outputs": [
        {
          "output_type": "stream",
          "name": "stdout",
          "text": [
            "Prediction:  195753.32047502318  real:  196000.0  Difference:  246.67952497681836\n",
            "Prediction:  250588.52205759182  real:  223000.0  Difference:  27588.52205759182\n",
            "Prediction:  255415.65727414057  real:  231200.0  Difference:  24215.65727414057\n",
            "Prediction:  136854.681599328  real:  94000.0  Difference:  42854.681599328\n",
            "Prediction:  209267.58531395238  real:  155900.0  Difference:  53367.58531395238\n",
            "Prediction:  118402.48693793436  real:  69100.0  Difference:  49302.48693793436\n",
            "Prediction:  247848.2480439447  real:  146700.0  Difference:  101148.24804394471\n",
            "Prediction:  155519.66406169423  real:  165300.0  Difference:  9780.335938305769\n",
            "Prediction:  180268.0052723293  real:  225000.0  Difference:  44731.99472767071\n",
            "Prediction:  171100.21874377143  real:  146700.0  Difference:  24400.21874377143\n"
          ]
        }
      ]
    },
    {
      "cell_type": "markdown",
      "metadata": {
        "id": "YdrgclUXkjFF"
      },
      "source": [
        "## M2. [Decision Tree Model](https://scikit-learn.org/stable/modules/generated/sklearn.tree.DecisionTreeRegressor.html)"
      ]
    },
    {
      "cell_type": "code",
      "metadata": {
        "id": "nzS-iUSUkyht"
      },
      "source": [
        "from sklearn.tree import DecisionTreeRegressor"
      ],
      "execution_count": null,
      "outputs": []
    },
    {
      "cell_type": "code",
      "metadata": {
        "colab": {
          "base_uri": "https://localhost:8080/"
        },
        "id": "tZM9QAT5kqGV",
        "outputId": "fb257721-e282-408b-c11e-1aa71d420947"
      },
      "source": [
        "dtr = DecisionTreeRegressor()\n",
        "dtr.fit(strat_train_all, strat_train_labels)"
      ],
      "execution_count": null,
      "outputs": [
        {
          "output_type": "execute_result",
          "data": {
            "text/plain": [
              "DecisionTreeRegressor(ccp_alpha=0.0, criterion='mse', max_depth=None,\n",
              "                      max_features=None, max_leaf_nodes=None,\n",
              "                      min_impurity_decrease=0.0, min_impurity_split=None,\n",
              "                      min_samples_leaf=1, min_samples_split=2,\n",
              "                      min_weight_fraction_leaf=0.0, presort='deprecated',\n",
              "                      random_state=None, splitter='best')"
            ]
          },
          "metadata": {},
          "execution_count": 64
        }
      ]
    },
    {
      "cell_type": "markdown",
      "metadata": {
        "id": "dYDAiFPHvseI"
      },
      "source": [
        "## M3. [SVM Model](https://scikit-learn.org/stable/modules/svm.html#regression)"
      ]
    },
    {
      "cell_type": "code",
      "metadata": {
        "id": "fs5f0uF_vws9"
      },
      "source": [
        "from sklearn import svm"
      ],
      "execution_count": null,
      "outputs": []
    },
    {
      "cell_type": "code",
      "metadata": {
        "colab": {
          "base_uri": "https://localhost:8080/"
        },
        "id": "R49TGokDv8KI",
        "outputId": "63482f64-e6ab-45c8-8b75-eed9515ce579"
      },
      "source": [
        "svmr = svm.SVR()\n",
        "svmr.fit(strat_train_all, strat_train_labels)"
      ],
      "execution_count": null,
      "outputs": [
        {
          "output_type": "execute_result",
          "data": {
            "text/plain": [
              "SVR(C=1.0, cache_size=200, coef0=0.0, degree=3, epsilon=0.1, gamma='scale',\n",
              "    kernel='rbf', max_iter=-1, shrinking=True, tol=0.001, verbose=False)"
            ]
          },
          "metadata": {},
          "execution_count": 66
        }
      ]
    },
    {
      "cell_type": "markdown",
      "metadata": {
        "id": "Tv6P9Y0Rwbdh"
      },
      "source": [
        "## M4. [Naive Bayes](https://scikit-learn.org/stable/modules/linear_model.html#bayesian-regression)"
      ]
    },
    {
      "cell_type": "code",
      "metadata": {
        "id": "5MkQEkXUwlvx"
      },
      "source": [
        "from sklearn.linear_model import BayesianRidge"
      ],
      "execution_count": null,
      "outputs": []
    },
    {
      "cell_type": "code",
      "metadata": {
        "colab": {
          "base_uri": "https://localhost:8080/"
        },
        "id": "RVwWtWiGwo_A",
        "outputId": "275a80f0-a25b-4278-e73d-3587c32c48f1"
      },
      "source": [
        "nbr = BayesianRidge()\n",
        "nbr.fit(strat_train_all, strat_train_labels)"
      ],
      "execution_count": null,
      "outputs": [
        {
          "output_type": "execute_result",
          "data": {
            "text/plain": [
              "BayesianRidge(alpha_1=1e-06, alpha_2=1e-06, alpha_init=None,\n",
              "              compute_score=False, copy_X=True, fit_intercept=True,\n",
              "              lambda_1=1e-06, lambda_2=1e-06, lambda_init=None, n_iter=300,\n",
              "              normalize=False, tol=0.001, verbose=False)"
            ]
          },
          "metadata": {},
          "execution_count": 70
        }
      ]
    },
    {
      "cell_type": "markdown",
      "metadata": {
        "id": "a6vT8UAMicV8"
      },
      "source": [
        "#  4. Evaluating the model"
      ]
    },
    {
      "cell_type": "markdown",
      "metadata": {
        "id": "szRsMvmr2OdA"
      },
      "source": [
        "## On Training Set"
      ]
    },
    {
      "cell_type": "code",
      "metadata": {
        "id": "G91KcmQ3ijeT"
      },
      "source": [
        "from sklearn.metrics import mean_squared_error"
      ],
      "execution_count": null,
      "outputs": []
    },
    {
      "cell_type": "code",
      "metadata": {
        "id": "zFjNRuPUir5x"
      },
      "source": [
        "def rmse(labels, predictions):\n",
        "  mse = mean_squared_error(labels, predictions)\n",
        "  rmse = np.sqrt(mse)\n",
        "  print(rmse)"
      ],
      "execution_count": null,
      "outputs": []
    },
    {
      "cell_type": "code",
      "metadata": {
        "colab": {
          "base_uri": "https://localhost:8080/"
        },
        "id": "jQPDF93Lj1B5",
        "outputId": "02a85fa6-c2ee-42bb-ded0-5c3b5dfd6067"
      },
      "source": [
        "rmse(strat_train_labels, lr.predict(strat_train_all))"
      ],
      "execution_count": null,
      "outputs": [
        {
          "output_type": "stream",
          "name": "stdout",
          "text": [
            "68687.47425543131\n"
          ]
        }
      ]
    },
    {
      "cell_type": "code",
      "metadata": {
        "colab": {
          "base_uri": "https://localhost:8080/"
        },
        "id": "YSt6TU8alFr-",
        "outputId": "9643ed7e-eb73-4ac0-ab1d-8d89e4aafe75"
      },
      "source": [
        "rmse(strat_train_labels, dtr.predict(strat_train_all))"
      ],
      "execution_count": null,
      "outputs": [
        {
          "output_type": "stream",
          "name": "stdout",
          "text": [
            "0.0\n"
          ]
        }
      ]
    },
    {
      "cell_type": "code",
      "metadata": {
        "colab": {
          "base_uri": "https://localhost:8080/"
        },
        "id": "KubaX3JjwI5Q",
        "outputId": "52b1e523-7c16-4e70-f6e3-0fcb059f7314"
      },
      "source": [
        "rmse(strat_train_labels, svmr.predict(strat_train_all))"
      ],
      "execution_count": null,
      "outputs": [
        {
          "output_type": "stream",
          "name": "stdout",
          "text": [
            "118018.57913092294\n"
          ]
        }
      ]
    },
    {
      "cell_type": "code",
      "metadata": {
        "colab": {
          "base_uri": "https://localhost:8080/"
        },
        "id": "vcbcAtCIwshI",
        "outputId": "45d0db42-981b-4c45-a954-c33e4764eb83"
      },
      "source": [
        "rmse(strat_train_labels, nbr.predict(strat_train_all))"
      ],
      "execution_count": null,
      "outputs": [
        {
          "output_type": "stream",
          "name": "stdout",
          "text": [
            "68691.56523540278\n"
          ]
        }
      ]
    },
    {
      "cell_type": "markdown",
      "metadata": {
        "id": "Uzv5JUuW2SIB"
      },
      "source": [
        "## On Testing Set"
      ]
    },
    {
      "cell_type": "code",
      "metadata": {
        "id": "X4kcQsaQ2UBP"
      },
      "source": [
        "strat_test_attr = strat_test.drop(\"median_house_value\", axis = 1, inplace=False)\n",
        "strat_test_labels = strat_test[\"median_house_value\"].copy()\n",
        "strat_test_attr[\"total_bedrooms\"].fillna(median, inplace = True) #previous media value\n",
        "\n",
        "strat_test_cat = strat_test_attr[[\"ocean_proximity\"]].copy()\n",
        "strat_test_cat = OHE.transform(strat_test_cat) #only transform\n",
        "\n",
        "strat_test_num = strat_test_attr.drop(\"ocean_proximity\", axis = 1, inplace=False)\n",
        "strat_test_num = SS.transform(strat_test_num) #only transform\n",
        "\n",
        "strat_test_all = np.concatenate((strat_test_num, strat_test_cat.toarray()), axis = 1)"
      ],
      "execution_count": null,
      "outputs": []
    },
    {
      "cell_type": "code",
      "metadata": {
        "colab": {
          "base_uri": "https://localhost:8080/"
        },
        "id": "FGyqzTq94ETS",
        "outputId": "f6998f7a-3a22-457e-c855-6510558a5323"
      },
      "source": [
        "rmse(strat_test_labels, lr.predict(strat_test_all))\n",
        "rmse(strat_test_labels, dtr.predict(strat_test_all))\n",
        "rmse(strat_test_labels, svmr.predict(strat_test_all))\n",
        "rmse(strat_test_labels, nbr.predict(strat_test_all))\n",
        "\n",
        "rmse(strat_test_labels, (lr.predict(strat_test_all) + dtr.predict(strat_test_all) + svmr.predict(strat_test_all) + nbr.predict(strat_test_all))/4)"
      ],
      "execution_count": null,
      "outputs": [
        {
          "output_type": "stream",
          "name": "stdout",
          "text": [
            "68860.91718782378\n",
            "67668.5823542296\n",
            "119045.92020922402\n",
            "68839.934102172\n",
            "65742.12126084128\n"
          ]
        }
      ]
    }
  ]
}